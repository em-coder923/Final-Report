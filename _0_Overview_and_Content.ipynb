{
 "cells": [
  {
   "cell_type": "code",
   "execution_count": 1,
   "id": "harmful-reflection",
   "metadata": {},
   "outputs": [],
   "source": [
    "# Initialize notebooks and control figure layout #\n",
    "import matplotlib.pyplot as plt\n",
    "import pandas as pd\n",
    "import numpy as np \n",
    "import os\n",
    "from IPython.display import Image\n",
    "\n",
    "plt.rcParams['axes.grid'] = True                       # turns grid background on\n",
    "plt.rcParams['figure.constrained_layout.use'] = True   # tight layout, controlled whitespace\n",
    "plt.rcParams['axes.linewidth'] = 2                     # thickness of axes\n",
    "\n",
    "small, medium, large = 16, 20, 24\n",
    "plt.rc('font', family='serif', size=small)             # controls default text sizes\n",
    "plt.rc('axes', titlesize=large)                        # fontsize of the axes title\n",
    "plt.rc('axes', labelsize=medium)                       # fontsize of the x and y labels\n",
    "plt.rc('xtick', labelsize=small)                       # fontsize of the tick labels\n",
    "plt.rc('ytick', labelsize=small)                       # fontsize of the tick labels\n",
    "plt.rc('legend', fontsize=small)                       # legend fontsize\n",
    "plt.rc('figure', titlesize=large)                      # fontsize of the figure title"
   ]
  },
  {
   "cell_type": "code",
   "execution_count": null,
   "id": "prepared-pilot",
   "metadata": {},
   "outputs": [],
   "source": [
    "# To call functions from other notebooks for the first time run: \n",
    "# !pip install ipynb"
   ]
  },
  {
   "cell_type": "markdown",
   "id": "rational-cartridge",
   "metadata": {},
   "source": [
    "**Introduction**: Industrially, granular flows are encountered in many processes such as agriculture, pharmaceutical, and biotechnology manufacturing. It is estimated that over 70% of the raw materials of these processes are non-spherical. [[Ref. 1]](https://doi.org/10.1016/j.powtec.2016.07.010) Moreover, they play an important role in natural phenomena such as sediment transport and erosion. These illustrate the many economic and environmental incentives to increase the efficiency when handling granular materials. Normally, these particles are of non-spherical shapes. A major challenge associated with modeling non-spherical particles is that the flow can induce preferred particle orientations. These orientations lead to large changes in the flow dynamics, which are predominantly dependent on particle size and shape. Understanding this phenomenon is essential for modeling the behavior of complex granular systems. Discrete element method (DEM) simulations have proven to be applicable in\n",
    "modeling non-spherical granular flows by considering the complex behavior between particles. Through past DEM simulations, we have the ability to analyze the orientation of non-spherical particles in shear flow. We are interested in the emergent patterns arising from various types of non-spherical shapes which we will investigate by using Python. These results are expected to translate into a deeper understanding of granular flow behavior and a more accurate predictive\n",
    "granular model.\n"
   ]
  },
  {
   "cell_type": "code",
   "execution_count": null,
   "id": "inclusive-title",
   "metadata": {},
   "outputs": [],
   "source": []
  },
  {
   "cell_type": "markdown",
   "id": "fitting-instruction",
   "metadata": {},
   "source": [
    "# Overview and Demonstration"
   ]
  },
  {
   "cell_type": "markdown",
   "id": "steady-outreach",
   "metadata": {},
   "source": [
    "Hello World! :) This repository is used to analyze the orientation angles of non-spherical particles created by DEM simulations and stored as binary files. For more specific details, see the notebooks organized below, which are meant to be utilized in order:\n",
    "\n",
    "1. **Get Data**: Reads data and stores it\n",
    "\n",
    "2. **Initial Explore**: Visualizes data (scatter plot, gifs) and overviews angle behavior\n",
    "\n",
    "3. **Angles & Binning**: Deeper flow and angle analysis, and visualizes angle \n",
    "orientation\n",
    "\n",
    "However, this notebook is to serve as a general overview of the code and results. It simply imports functions from the other notebooks in order to loop over all the original binary files. I would suggest starting here and then diving into the more in-depth notebooks."
   ]
  },
  {
   "cell_type": "code",
   "execution_count": null,
   "id": "sound-reflection",
   "metadata": {},
   "outputs": [],
   "source": []
  },
  {
   "cell_type": "markdown",
   "id": "waiting-neutral",
   "metadata": {},
   "source": [
    "## Demonstration\n",
    "This section of the code is to serve as a brief demonstration over how to use the notebooks. The notebook functions will automatically save the figures to a folder titled the function name. A directory tree can be seen below: \n",
    "\n",
    "**Project Folder**\n",
    "\n",
    "\n",
    "- Notebooks\n",
    "- Raw Data Folder\n",
    "\n",
    "    - Binary Files (eg. output_DR_2_2__2_8_P.bin)\n",
    "    \n",
    "- DataFrames Folder\n",
    "\n",
    "    - DataFrame Files (eg. 2228_CleanDF)\n",
    "\n",
    "- Figures Folder\n",
    "    - scImage Folder\n",
    "    - scMlabImage Folder\n",
    "    - scMlabGif Folder\n",
    "    - etc...\n",
    "\n",
    "Let's say we have a binary file titled output_DR_2_2__2_8_P.bin. The first step is to read the data, store the data into a dataframe, and then do something with the data. "
   ]
  },
  {
   "cell_type": "code",
   "execution_count": 2,
   "id": "expected-recovery",
   "metadata": {},
   "outputs": [
    {
     "name": "stderr",
     "output_type": "stream",
     "text": [
      "C:\\Users\\emmye\\Desktop\\UmbanhowarLab\\Final Project\\_1_Get_Data.ipynb:109: RuntimeWarning: invalid value encountered in double_scalars\n",
      "  \"        'y': data[3,:,frame],\\n\",\n",
      "C:\\Users\\emmye\\Desktop\\UmbanhowarLab\\Final Project\\_1_Get_Data.ipynb:110: RuntimeWarning: invalid value encountered in double_scalars\n",
      "  \"        'z': data[4,:,frame],\\n\",\n"
     ]
    }
   ],
   "source": [
    "# import functions from other notebooks #\n",
    "from ipynb.fs.defs._1_Get_Data import ReadData, WholeDF, CleanDF\n",
    "\n",
    "# read the data #\n",
    "filename = 'output_DR_2_2__2_8_P.bin'\n",
    "data, T = ReadData('RawData/'+filename, 0, 100, 90000)\n",
    "\n",
    "# store into a dataframe #\n",
    "df_whole = WholeDF(data, filename, 0)\n",
    "df_clean = CleanDF(df_whole)\n",
    "\n",
    "# save the dataframe for later use #\n",
    "df_clean.to_pickle('DataFrames/'+df_clean.index.name+'_CleanDF')"
   ]
  },
  {
   "cell_type": "markdown",
   "id": "recent-vocabulary",
   "metadata": {},
   "source": [
    "The data is saved to a dataframe named with the axis lengths, so 'output_DR_2_2__2_8_P.bin' becomes '2228', which is much easier to work with. "
   ]
  },
  {
   "cell_type": "code",
   "execution_count": 3,
   "id": "champion-finish",
   "metadata": {},
   "outputs": [
    {
     "data": {
      "text/html": [
       "<div>\n",
       "<style scoped>\n",
       "    .dataframe tbody tr th:only-of-type {\n",
       "        vertical-align: middle;\n",
       "    }\n",
       "\n",
       "    .dataframe tbody tr th {\n",
       "        vertical-align: top;\n",
       "    }\n",
       "\n",
       "    .dataframe thead th {\n",
       "        text-align: right;\n",
       "    }\n",
       "</style>\n",
       "<table border=\"1\" class=\"dataframe\">\n",
       "  <thead>\n",
       "    <tr style=\"text-align: right;\">\n",
       "      <th></th>\n",
       "      <th>x</th>\n",
       "      <th>y</th>\n",
       "      <th>z</th>\n",
       "      <th>a</th>\n",
       "      <th>b</th>\n",
       "      <th>c</th>\n",
       "      <th>M</th>\n",
       "      <th>thetay</th>\n",
       "      <th>thetaz</th>\n",
       "      <th>uprime</th>\n",
       "      <th>v</th>\n",
       "      <th>w</th>\n",
       "      <th>u</th>\n",
       "      <th>zprime</th>\n",
       "      <th>xprime</th>\n",
       "    </tr>\n",
       "    <tr>\n",
       "      <th>2228</th>\n",
       "      <th></th>\n",
       "      <th></th>\n",
       "      <th></th>\n",
       "      <th></th>\n",
       "      <th></th>\n",
       "      <th></th>\n",
       "      <th></th>\n",
       "      <th></th>\n",
       "      <th></th>\n",
       "      <th></th>\n",
       "      <th></th>\n",
       "      <th></th>\n",
       "      <th></th>\n",
       "      <th></th>\n",
       "      <th></th>\n",
       "    </tr>\n",
       "  </thead>\n",
       "  <tbody>\n",
       "    <tr>\n",
       "      <th>2</th>\n",
       "      <td>0.129618</td>\n",
       "      <td>0.029526</td>\n",
       "      <td>0.315643</td>\n",
       "      <td>0.001</td>\n",
       "      <td>0.001</td>\n",
       "      <td>0.001</td>\n",
       "      <td>[[-0.6224925159136152, -0.4175879279535099, -0...</td>\n",
       "      <td>-51.603625</td>\n",
       "      <td>26.996248</td>\n",
       "      <td>0.001963</td>\n",
       "      <td>0.002313</td>\n",
       "      <td>-0.002385</td>\n",
       "      <td>0.000315</td>\n",
       "      <td>0.003241</td>\n",
       "      <td>0.141506</td>\n",
       "    </tr>\n",
       "    <tr>\n",
       "      <th>3</th>\n",
       "      <td>0.134824</td>\n",
       "      <td>0.013902</td>\n",
       "      <td>0.313001</td>\n",
       "      <td>0.001</td>\n",
       "      <td>0.001</td>\n",
       "      <td>0.001</td>\n",
       "      <td>[[-0.6836695122570284, 0.5525053569799885, -0....</td>\n",
       "      <td>-67.336677</td>\n",
       "      <td>-39.669313</td>\n",
       "      <td>0.000554</td>\n",
       "      <td>0.000121</td>\n",
       "      <td>-0.000199</td>\n",
       "      <td>-0.001051</td>\n",
       "      <td>0.003047</td>\n",
       "      <td>0.147341</td>\n",
       "    </tr>\n",
       "    <tr>\n",
       "      <th>4</th>\n",
       "      <td>0.101337</td>\n",
       "      <td>0.007187</td>\n",
       "      <td>0.329050</td>\n",
       "      <td>0.001</td>\n",
       "      <td>0.001</td>\n",
       "      <td>0.001</td>\n",
       "      <td>[[-0.15948910013402823, -0.867154590325327, 0....</td>\n",
       "      <td>86.265340</td>\n",
       "      <td>83.006088</td>\n",
       "      <td>0.001043</td>\n",
       "      <td>0.000908</td>\n",
       "      <td>0.000881</td>\n",
       "      <td>-0.000519</td>\n",
       "      <td>0.003440</td>\n",
       "      <td>0.110209</td>\n",
       "    </tr>\n",
       "  </tbody>\n",
       "</table>\n",
       "</div>"
      ],
      "text/plain": [
       "             x         y         z      a      b      c  \\\n",
       "2228                                                      \n",
       "2     0.129618  0.029526  0.315643  0.001  0.001  0.001   \n",
       "3     0.134824  0.013902  0.313001  0.001  0.001  0.001   \n",
       "4     0.101337  0.007187  0.329050  0.001  0.001  0.001   \n",
       "\n",
       "                                                      M     thetay     thetaz  \\\n",
       "2228                                                                            \n",
       "2     [[-0.6224925159136152, -0.4175879279535099, -0... -51.603625  26.996248   \n",
       "3     [[-0.6836695122570284, 0.5525053569799885, -0.... -67.336677 -39.669313   \n",
       "4     [[-0.15948910013402823, -0.867154590325327, 0....  86.265340  83.006088   \n",
       "\n",
       "        uprime         v         w         u    zprime    xprime  \n",
       "2228                                                              \n",
       "2     0.001963  0.002313 -0.002385  0.000315  0.003241  0.141506  \n",
       "3     0.000554  0.000121 -0.000199 -0.001051  0.003047  0.147341  \n",
       "4     0.001043  0.000908  0.000881 -0.000519  0.003440  0.110209  "
      ]
     },
     "execution_count": 3,
     "metadata": {},
     "output_type": "execute_result"
    }
   ],
   "source": [
    "# visualize dataframe # \n",
    "name = '2228'\n",
    "df_test_clean = pd.read_pickle('DataFrames/'+name+'_CleanDF')\n",
    "df_test_clean.head(3)"
   ]
  },
  {
   "cell_type": "markdown",
   "id": "pleasant-bottle",
   "metadata": {},
   "source": [
    "Now, we want to manipulate the data in some way. Let's say plot the overall angle statistics. "
   ]
  },
  {
   "cell_type": "code",
   "execution_count": 4,
   "id": "handmade-spending",
   "metadata": {},
   "outputs": [
    {
     "data": {
      "image/png": "[encoded data removed]",
      "text/plain": [
       "<Figure size 1080x576 with 2 Axes>"
      ]
     },
     "metadata": {
      "needs_background": "light"
     },
     "output_type": "display_data"
    }
   ],
   "source": [
    "# import function from other notebook #\n",
    "from ipynb.fs.defs._2_Initial_Explore import totProbDistr \n",
    "\n",
    "# utilize function #\n",
    "totProbDistr(name)"
   ]
  },
  {
   "cell_type": "markdown",
   "id": "breeding-construction",
   "metadata": {},
   "source": [
    "It's that easy! :) For a deeper look into how each function works, we refer the reader to the notebooks."
   ]
  },
  {
   "cell_type": "markdown",
   "id": "dried-genealogy",
   "metadata": {},
   "source": [
    "# 1 Get Data\n",
    "This notebook contains code that reads the binary data as a 3D matrix (ReadData), stores it into a dataframe (WholeDF), and then performs more calculations that are to be used later (CleanDF). We can read every binary file in the 'RawData' folder and store the respective whole and cleaned dataframes into the folder 'DataFrames'. The dataframes are saved according to their particle dimensions and type. \n",
    "    For example, a cleaned dataframe of 2x2 and 2x4mm particle simulation is saved as 2224_CleanDF. "
   ]
  },
  {
   "cell_type": "markdown",
   "id": "dimensional-authority",
   "metadata": {},
   "source": [
    "The functions are defined as: \n",
    "\n",
    "\n",
    "- ReadData(filename, startN, endN, maxParticles): Reads binary file and outputs 3d matrix and final frame count.\n",
    "    \n",
    "    - filename: name of binary file\n",
    "    - startN: frame start time\n",
    "    - endN: frame end time\n",
    "    - maxParticles: max number of particles stored in matrix\n",
    "   \n",
    "- WholeDF(data, filename, frame): Reads 3d matrix at a specific time and outputs a dataframe of the entire data\n",
    "\n",
    "    - data: 3D matrix data (from ReadData)\n",
    "    - filename: name of binary file\n",
    "    - frame: time frame to be stored (1)\n",
    "    \n",
    "- CleanDF(df): Reads dataframe and outputs a new dataframe with Xprime and Zprime. Also excludes feed zone.\n",
    "\n",
    "    - df: dataframe to be cleaned (from WholeDF)"
   ]
  },
  {
   "cell_type": "code",
   "execution_count": null,
   "id": "cooked-intensity",
   "metadata": {},
   "outputs": [],
   "source": [
    "from ipynb.fs.defs._1_Get_Data import ReadData, WholeDF, CleanDF"
   ]
  },
  {
   "cell_type": "code",
   "execution_count": null,
   "id": "alert-hamburg",
   "metadata": {},
   "outputs": [],
   "source": [
    "# Loops over all binary data and stores a Whole and Clean dataframe #\n",
    "for filename in os.listdir('RawData'):\n",
    "    data0, T0 = ReadData('RawData/'+filename, 0, 1, 90000)\n",
    "    data, T = ReadData('RawData/'+filename, int(T0)-100, int(T0), 90000)\n",
    "    df_whole = WholeDF(data, filename, 0)\n",
    "    df_whole.to_pickle('DataFrames/'+df_whole.index.name+'_WholeDF')\n",
    "    df_clean = CleanDF(df_whole)\n",
    "    df_clean.to_pickle('DataFrames/'+df_clean.index.name+'_CleanDF')"
   ]
  },
  {
   "cell_type": "markdown",
   "id": "scientific-elevation",
   "metadata": {},
   "source": [
    "We can check to see if the code works by calling an arbitrary saved dataframe."
   ]
  },
  {
   "cell_type": "markdown",
   "id": "advanced-communist",
   "metadata": {},
   "source": [
    "To use the files later, we need to be able to loop over the names. Therefore, we can write a .txt file containing the names.  "
   ]
  },
  {
   "cell_type": "code",
   "execution_count": null,
   "id": "lesser-bullet",
   "metadata": {},
   "outputs": [],
   "source": [
    "# write a .txt with filenames #\n",
    "with open('filenames.txt', 'a') as the_file:\n",
    "    for filename in os.listdir('DataFrames'):\n",
    "        if filename.endswith('_CleanDF'):\n",
    "            name = filename[0:4]\n",
    "            the_file.write(str(name)+'\\n')"
   ]
  },
  {
   "cell_type": "markdown",
   "id": "focused-replication",
   "metadata": {},
   "source": [
    "The following code is a sample of the code used to loop over the names with the function, 'function.' This code will be used to extensively to gather data on every data simulation."
   ]
  },
  {
   "cell_type": "code",
   "execution_count": null,
   "id": "offensive-scott",
   "metadata": {},
   "outputs": [],
   "source": [
    "# sample code #\n",
    "with open('filenames.txt') as file:\n",
    "    for name in file:\n",
    "        function(name)"
   ]
  },
  {
   "cell_type": "markdown",
   "id": "devoted-appendix",
   "metadata": {},
   "source": [
    "# 2 Initial Explore\n",
    "In this notebook, we want to take a look at the data we are working with. To do this we first render the whole dataframe as a scatter plot in matplotlib (scImage) and then mayavi (scMlabImage). We then can get a better understanding of the data by rendering a GIF of 100 frames of data (scMlabGif). \n",
    "\n",
    "Then, we want to get an overview of the orientation angles by plotting the total probability distribution (totProbDistr) and error bars (errorBars) of the data excluding the feed zone. \n",
    "\n",
    "The functions are as follows: \n",
    "\n",
    "- scImage(name):3D Scatterplot of a certain time, defined by the dataframe (df). Rendered in Matplotlib.\n",
    "\n",
    "    - name: Name of saved data in the form '2228', for example. \n",
    "    \n",
    "- scMlabImage(name):3D Scatterplot of a certain time, defined by the dataframe (df). Rendered in Mayavi.\n",
    "- scMlabGif(filename): Renders a 3D GIF of the data for 100 frames. Matplotlib.\n",
    "\n",
    "    - filename: actual saved filename of data.\n",
    "    \n",
    "- totProbDistr(name): imports clean dataframe and calculates the probabilities of thetay and thetaz.\n",
    "- errorBars(name): creates error bars of thetay and thetaz plotted against Xprime."
   ]
  },
  {
   "cell_type": "code",
   "execution_count": null,
   "id": "progressive-arizona",
   "metadata": {},
   "outputs": [],
   "source": [
    "from ipynb.fs.defs._2_Initial_Explore import scImage, scMlabImage, scMlabGif\n",
    "from ipynb.fs.defs._2_Initial_Explore import totProbDistr, errorBars"
   ]
  },
  {
   "cell_type": "markdown",
   "id": "freelance-medication",
   "metadata": {},
   "source": [
    "First, we can plot the scatter plots to get a sense of the separation and the length of each data simulation. "
   ]
  },
  {
   "cell_type": "code",
   "execution_count": null,
   "id": "included-beatles",
   "metadata": {},
   "outputs": [],
   "source": [
    "with open('filenames.txt') as file:\n",
    "    for name in file:\n",
    "        scImage(name.rstrip('\\n'))\n",
    "        scMlabImage(name.rstrip('\\n'))"
   ]
  },
  {
   "cell_type": "markdown",
   "id": "elegant-durham",
   "metadata": {},
   "source": [
    "We can compare the 2x2 and 2x4 simulation with the 2x2 and 2x8 simulation. We do this to take two limiting cases with size ratios of 2 and 4. \n",
    "\n",
    "![](figure1.png)"
   ]
  },
  {
   "cell_type": "markdown",
   "id": "checked-roberts",
   "metadata": {},
   "source": [
    "Second, we can plot scatter plot animations of each data simulation to regard any characteristics such as avalanching. "
   ]
  },
  {
   "cell_type": "code",
   "execution_count": null,
   "id": "velvet-resort",
   "metadata": {},
   "outputs": [],
   "source": [
    "for filename in os.listdir('RawData'):\n",
    "    scMlabGif(filename)"
   ]
  },
  {
   "cell_type": "markdown",
   "id": "offshore-swimming",
   "metadata": {},
   "source": [
    "![](figure2.png)"
   ]
  },
  {
   "cell_type": "markdown",
   "id": "amended-coupon",
   "metadata": {},
   "source": [
    "From these figures, we can observe that segregation occurs much more with the larger size ratio. However, since it is clear that the 2x4 simulation is much shorter, it is hard to decide whether the simulation is long enough to induce segregation. The animation helps visualize the flowing layer of the data. In future endeavors, we would recommend comparing simulations with similar length, and only analyzing the flowing layer. Our code analysis the entirety of data, excluding the feed zone."
   ]
  },
  {
   "cell_type": "markdown",
   "id": "equipped-helen",
   "metadata": {},
   "source": [
    "We can get a sense of the orientation behavior by plotting the overall probability histograms and error bar plots."
   ]
  },
  {
   "cell_type": "code",
   "execution_count": null,
   "id": "committed-video",
   "metadata": {},
   "outputs": [],
   "source": [
    "with open('filenames.txt') as file:\n",
    "    for name in file:\n",
    "        totProbDistr(name.rstrip('\\n'))\n",
    "        errorBars(name.rstrip('\\n'))"
   ]
  },
  {
   "cell_type": "markdown",
   "id": "lovely-transfer",
   "metadata": {},
   "source": [
    "![](figure3.png)\n",
    "\n",
    "From the probability distributions is is clear to see that the rods have a strong preference of angling in line with the slope at 0 deg and angling at an inclination slightly less than the slope degrees at -25. The small error bars on the $\\theta_y$ plot correlate to the fact the histograms at each bin are most likely normal. The disks, on the other hand, do not have as strong a preference. In the top graphs, there is a peak at the slope, $\\theta$, and at 90 minus the slope, $90-\\theta$. This corresponds to that the disks are most likely pushed against rods. The lack of a peak at 0 is because these simulations do not have side walls. If there were side walls, we would see a peak like in [Zhao et. al's Paper](https://doi.org/10.1002/aic.16035). \n",
    "\n",
    "To deeper understand the effect of location and visualize the meaning of the angles, see notebook 3 Angles & Binning."
   ]
  },
  {
   "cell_type": "markdown",
   "id": "vulnerable-victory",
   "metadata": {},
   "source": [
    "# 3 Angles & Binning\n",
    "This notebook provides a visualization tool for the meaning of the angles and also deeper understanding of the statistics of the orientation angles by binning the data in 5 locations. \n",
    "\n",
    "- overProfile(name): this function takes a cleaned dataframe and outputs an overview of the binning profile including the evolution of flow and velocity profiles.\n",
    "\n",
    "    - name: name of saved data in the form '2228', for example.\n",
    "    \n",
    "- probProfile(name): gives concentration, thetay and thetaz probabilities for both types of particles, for 5 bins."
   ]
  },
  {
   "cell_type": "markdown",
   "id": "speaking-electron",
   "metadata": {},
   "source": [
    "While not a defined function, we can visualize the meaning of $\\theta_y$ and $\\theta_z$ graphically and numerically with code inside this notebook. Examples include:\n",
    "\n",
    "![](exampleparticle.png)\n",
    "![](exampleangles.png)\n"
   ]
  },
  {
   "cell_type": "code",
   "execution_count": null,
   "id": "dimensional-angle",
   "metadata": {},
   "outputs": [],
   "source": []
  },
  {
   "cell_type": "code",
   "execution_count": null,
   "id": "blocked-republican",
   "metadata": {},
   "outputs": [],
   "source": [
    "from ipynb.fs.defs._3_Angles_Binning import overProfile, probProfile"
   ]
  },
  {
   "cell_type": "code",
   "execution_count": null,
   "id": "hollow-demand",
   "metadata": {},
   "outputs": [],
   "source": [
    "with open('filenames.txt') as file:\n",
    "    for name in file:\n",
    "        overProfile(name)\n",
    "        probProfile(name)"
   ]
  },
  {
   "cell_type": "markdown",
   "id": "applicable-criterion",
   "metadata": {},
   "source": [
    "![](figure4.png)\n",
    "\n",
    "The flow time evolution shows how the thickness from the slope, or z', gradually increases over time. The thickness varies substantially with the streamwise position, x'. While our investigations did not consider the flowing layer thickness, we strongly suggest future investigations take this into account. The bottom row shows the velocity profile and velocity profile normalized over the largest velocity in the bins. In general, the particles move faster closer to the feed zone and slower near the end boundary wall. The velocity decreases from the maximum at the free surface. \n"
   ]
  },
  {
   "cell_type": "markdown",
   "id": "difficult-comedy",
   "metadata": {},
   "source": [
    "\n",
    "\n",
    "![](figure5.png)\n",
    "\n",
    "Focusing on the rod-like particles, the larger length-to-diameter aspect ratio corresponds to a taller probability peak. In addition, there is no apparent pattern correlation to the bin location or depth associated with the disks. For the rods, as x' increases, there was no notable effect on angle statistics. However, for z', the middle layers had the strongest probability functions. On average, the rod concentration increases as z' increases. Therefore, the bottom layers have a low concentration of rod particles. The top layers have a higher velocity and movement. Both of these factors might attribute to the middle layers having the tallest peaks. "
   ]
  },
  {
   "cell_type": "markdown",
   "id": "figured-grounds",
   "metadata": {},
   "source": [
    "# Conclusion and Future Work\n",
    "Particle shape affects many aspects of creating an accurate predictive granular flow model. The methodology for analyzing particle orientation of bounded heap flow has been laid out.\n",
    "\n",
    "The orientation of rod-like particles tend to position themselves with the principal axis aligned with the flow and slope. The larger the length-to-diameter aspect ratio, the more strongly this is true. The distributions of angles means that the rods are generally sliding over each other. For disk-like particles, there is a definite bimodal pattern that arises for $\\theta_y$, most likely due to aligning themselves with the rods. \n",
    "\n",
    "Although the results obtained have provided insight into nonspherical particle behavior, future investigation is needed. We suggest a deeper analysis into disk-like particles and their preferred orientations. In addition, we advocate exploring simulations in which the rods vary in length and diameter. We also want to look into how the orientation for rod-like particles is impacted by other particle in flow. For example, how would the orientations change for rod-rod simulations or sphere-rod simulations? We also suggest analyzing the orientation for longer simulation time, perhaps starting at time zero, and analyzing how long it takes for preferred orientation to develop. \n"
   ]
  }
 ],
 "metadata": {
  "kernelspec": {
   "display_name": "Python 3",
   "language": "python",
   "name": "python3"
  },
  "language_info": {
   "codemirror_mode": {
    "name": "ipython",
    "version": 3
   },
   "file_extension": ".py",
   "mimetype": "text/x-python",
   "name": "python",
   "nbconvert_exporter": "python",
   "pygments_lexer": "ipython3",
   "version": "3.8.8"
  }
 },
 "nbformat": 4,
 "nbformat_minor": 5
}
