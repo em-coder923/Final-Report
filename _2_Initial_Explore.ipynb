{
 "cells": [
  {
   "cell_type": "markdown",
   "id": "weighted-controversy",
   "metadata": {},
   "source": [
    "# 2 Initial Explore\n",
    "In this notebook, we want to take a look at the data we are working with. To do this we first render the whole dataframe as a scatter plot in matplotlib (scImage) and then mayavi (scMlabImage). We then can get a better understanding of the data by rendering a GIF of 100 frames of data (scMlabGif). Then, we want to get an overview of the orientation angles by plotting the total probability distribution (totProbDistr) and error bars (errorBars) of the data excluding the feed zone. The functions are as follows:\n",
    "\n",
    "- scImage(name):3D Scatterplot of a certain time, defined by the dataframe (df). Rendered in Matplotlib.\n",
    "\n",
    "    - name: Name of saved data in the form '2228', for example. \n",
    "    \n",
    "- scMlabImage(name):3D Scatterplot of a certain time, defined by the dataframe (df). Rendered in Mayavi.\n",
    "- scMlabGif(filename): Renders a 3D GIF of the data for 100 frames. Matplotlib.\n",
    "\n",
    "    - filename: actual saved filename of data.\n",
    "    \n",
    "- totProbDistr(name): imports clean dataframe and calculates the probabilities of thetay and thetaz.\n",
    "- errorBars(name): creates error bars of thetay and thetaz plotted against Xprime."
   ]
  },
  {
   "cell_type": "markdown",
   "id": "established-front",
   "metadata": {},
   "source": [
    "## Scatter Plot Static Image\n",
    "The first thing we want to do to explore the data is to generate a scatter plot of the entire dataframe. It saves an image in Figures/scImage folder."
   ]
  },
  {
   "cell_type": "code",
   "execution_count": 2,
   "id": "numerous-holiday",
   "metadata": {},
   "outputs": [],
   "source": [
    "def scImage(name):\n",
    "    '''3D Scatterplot of a certain time, defined by the dataframe (df).'''\n",
    "    import pandas as pd\n",
    "    import matplotlib.pyplot as plt\n",
    "    import matplotlib.patches as mpatches\n",
    "    \n",
    "    df = pd.read_pickle('DataFrames/'+name+'_WholeDF') # reads whole dataframe\n",
    "    \n",
    "    fig = plt.figure(figsize=(15,15)) # creates figure\n",
    "    ax = fig.add_subplot(111, projection='3d')\n",
    "    ax.set_box_aspect((np.ptp(df.x), np.ptp(df.y), np.ptp(df.z))) # set size\n",
    "\n",
    "    ax.set(xlabel='X', ylabel='Y', zlabel='Z', title ='Simulation of '+ str(name[0]) + 'x' + str(name[1]) + 'mm and '+str(name[2]) + 'x' + str(name[3]) + 'mm Particles')\n",
    "    ax.xaxis.labelpad = 25 # to avoid label overlaps\n",
    "    ax.set_yticks([0,round(df.y.max(),2)]) # to avoid label overlaps\n",
    "\n",
    "    df0 = df[df.c.round(4) == (float(name[1])/2000) ] # split data into 2 particles\n",
    "    df1 = df[df.c.round(4) == (float(name[3])/2000) ]\n",
    "\n",
    "    ax.scatter(df0['x'], df0['y'], df0['z'], c='silver', s=2) # scatter plot 2 particles\n",
    "    ax.scatter(df1['x'], df1['y'], df1['z'], c='black', s=2)\n",
    "\n",
    "    legend0 = mpatches.Patch(color='silver', label=str(name[0]) + 'x' + str(name[1]) + 'mm') # add legend\n",
    "    legend1 = mpatches.Patch(color='black', label=str(name[2]) + 'x' + str(name[3]) + 'mm')\n",
    "    plt.legend(handles=[legend0, legend1], loc='upper right')\n",
    "    \n",
    "    plt.savefig('Figures/scImage/'+name+'.png', dpi=500)\n",
    "    return plt.close()"
   ]
  },
  {
   "cell_type": "markdown",
   "id": "positive-portrait",
   "metadata": {},
   "source": [
    "## Mayavi Scatter Plot Image \n",
    "Instead of rendering a scatter plot in matplotlib, here we utilize mayavi's mlab to generate spheres. We use points3d because it speeds up the process. "
   ]
  },
  {
   "cell_type": "code",
   "execution_count": 3,
   "id": "decent-collaboration",
   "metadata": {},
   "outputs": [],
   "source": [
    "def scMlabImage(name):\n",
    "    '''3D Scatterplot of a certain time, defined by the dataframe (df).'''\n",
    "    import pandas as pd\n",
    "    from mayavi import mlab\n",
    "    df = pd.read_pickle('DataFrames/'+name+'_WholeDF') # read whole dataframe\n",
    "\n",
    "    df0 = df[df.c.round(4) == (float(name[1])/2000) ] # divides into 2 particles\n",
    "    df1 = df[df.c.round(4) == (float(name[3])/2000) ]\n",
    "\n",
    "    mfig=mlab.figure(size=(1024,1024)) # create mayavi figure\n",
    "    mlab.points3d(df0.x, df0.y, df0.z, scale_factor=0.004, color=(0.753, 0.753, 0.753)) # plots 2 particles as spheres\n",
    "    mlab.points3d(df1.x, df1.y, df1.z, scale_factor=0.004, color=(0.412,0.412,0.412)) \n",
    "\n",
    "    mlab.view(300, 60) # same orientation as scImage\n",
    "    mlab.orientation_axes()\n",
    "    mlab.savefig(filename='Figures/scMlabImage/'+str(name)+'.png')\n",
    "    return mlab.close(all=True)"
   ]
  },
  {
   "cell_type": "markdown",
   "id": "confused-davis",
   "metadata": {},
   "source": [
    "### Run scImage and scMlabImage for all files"
   ]
  },
  {
   "cell_type": "code",
   "execution_count": null,
   "id": "consecutive-luther",
   "metadata": {},
   "outputs": [],
   "source": [
    "with open('filenames.txt') as file:\n",
    "    for name in file:\n",
    "        scImage(name.rstrip('\\n'))\n",
    "        scMlabImage(name.rstrip('\\n'))"
   ]
  },
  {
   "cell_type": "markdown",
   "id": "compliant-liquid",
   "metadata": {},
   "source": [
    "We can then compare the images that are generated by scImage and scMlabImage, respectively. \n",
    "\n",
    "![](figure1.png)\n",
    "\n",
    "One can take notice of the difference in length, height from slope, segregation, etc. "
   ]
  },
  {
   "cell_type": "markdown",
   "id": "fifteen-oklahoma",
   "metadata": {},
   "source": [
    "## Scatter Plot Animation\n",
    "Now we want to generate a scatter plot animation of 100 frames. To increase productivity, instead of individually rotating all the data, we instead manually rotate it. "
   ]
  },
  {
   "cell_type": "code",
   "execution_count": 4,
   "id": "handmade-olive",
   "metadata": {},
   "outputs": [],
   "source": [
    "def scMlabGif(filename):\n",
    "    '''Renders a 3D GIF of the data for 100 frames. Matplotlib.'''\n",
    "    from ipynb.fs.defs._1_Get_Data import ReadData\n",
    "    from mayavi import mlab\n",
    "    import pandas as pd\n",
    "    \n",
    "    data0, T0 = ReadData('RawData/'+filename, 0, 1, 90000) # inital read to get time\n",
    "    data, T = ReadData('RawData/'+filename, int(T0)-100, int(T0), 90000) # get data for 100 last time frames\n",
    "\n",
    "    df = pd.DataFrame(data={'x': data[4,:,0], 'y': data[2,:,0], 'z': data[3,:,0], 'c': data[13,:,0]}) # dataframe from data\n",
    "    df = df[df.c != 0]\n",
    "\n",
    "    sc = mlab.points3d(df.x, df.y, df.z, df.c, scale_factor=1, colormap='Greys') # define figure\n",
    "    ms = sc.mlab_source # to update figure\n",
    "\n",
    "    @mlab.animate\n",
    "    def anim(): # animation code\n",
    "        for i in range(100):\n",
    "            df = pd.DataFrame(data={'x': data[4,:,i], 'y': data[2,:,i], 'z': data[3,:,i], 'c': data[13,:,i]}) \n",
    "            df = df[df.c != 0]\n",
    "\n",
    "            ms.reset(x=df.x, y=df.y, z=df.z, scalars=df.c) # reset is used because more than one parameter changes\n",
    "\n",
    "            filename = 'Figures/temp_files/'+str(i)+'.png' # save one frame at a time as a .png to temp_files\n",
    "            mlab.savefig(filename=filename)\n",
    "            yield\n",
    "    anim()\n",
    "    mlab.view(300, 60)\n",
    "    mlab.orientation_axes()\n",
    "    mlab.show()\n",
    "    mlab.close(all=True)\n",
    "    \n",
    "    import imageio\n",
    "    images =[]\n",
    "    for i in range(100):\n",
    "        images.append(imageio.imread('Figures/temp_files/'+str(i)+'.png')) # compile the .png files together\n",
    "    imageio.mimsave('Figures/scMlabGif/'+str(filename)+'.gif', images) # create a gif\n",
    "    \n",
    "    import shutil\n",
    "    import os\n",
    "    shutil.rmtree('Figures/temp_files/') # delete temp_files\n",
    "    os.makedirs('Figures/temp_files/') # create new folder called temp_files\n",
    "    \n",
    "    return"
   ]
  },
  {
   "cell_type": "code",
   "execution_count": null,
   "id": "clinical-intake",
   "metadata": {},
   "outputs": [],
   "source": [
    "#run scMlabGif for all files in RawData#\n",
    "for filename in os.listdir('RawData'):\n",
    "    scMlabGif(filename)"
   ]
  },
  {
   "cell_type": "markdown",
   "id": "bored-answer",
   "metadata": {},
   "source": [
    "![](figure2.png)"
   ]
  },
  {
   "cell_type": "markdown",
   "id": "tutorial-interstate",
   "metadata": {},
   "source": [
    "## Total Probability Distributions\n",
    "To get an overview of the probabilities of $\\theta_y$ and $\\theta_z$, we can plot the total distributions without the feed zone. This is similar to Figure 3 in [Zhao et. al's Paper](https://doi.org/10.1002/aic.16035). "
   ]
  },
  {
   "cell_type": "code",
   "execution_count": 5,
   "id": "serious-school",
   "metadata": {},
   "outputs": [],
   "source": [
    "def totProbDistr(name):\n",
    "    '''totProbDistr: imports clean dataframe and calculates the probabilities of thetay and thetaz.'''\n",
    "    import pandas as pd\n",
    "    import matplotlib.pyplot as plt\n",
    "    import numpy as np\n",
    "    \n",
    "    df = pd.read_pickle('DataFrames/'+name+'_CleanDF') # reads clean dataframe\n",
    "\n",
    "    df1 = df[df.c.round(4) == (float(name[1])/2000) ] # divides dataframe into 2 particles\n",
    "    df2 = df[df.c.round(4) == (float(name[3])/2000) ]\n",
    "\n",
    "    fig, (ax0, ax1) = plt.subplots(1,2,figsize=(15,8))\n",
    "    ax0.set_box_aspect(1), ax1.set_box_aspect(1)\n",
    "\n",
    "    n_bins = 100 # arbitrary\n",
    "\n",
    "    weights_1=np.ones_like(df1.thetay)/len(df1.thetay) # to analyze probability instead of density\n",
    "    weights_2=np.ones_like(df2.thetay)/len(df2.thetay)\n",
    "    ax0.hist(df1.thetay, n_bins, weights=weights_1, histtype='step', label=str(name[0]) + 'x' + str(name[1])+'mm', color='red')\n",
    "    ax0.hist(df2.thetay, n_bins, weights=weights_2, histtype='step', label=str(name[2]) + 'x' + str(name[3])+'mm', color='blue')\n",
    "\n",
    "    weights_3=np.ones_like(df1.thetaz)/len(df1.thetaz)\n",
    "    weights_4=np.ones_like(df2.thetaz)/len(df2.thetaz)\n",
    "    ax1.hist(df1.thetaz, n_bins, weights=weights_3, histtype='step', label=str(name[0]) + 'x' + str(name[1]), color='red')\n",
    "    ax1.hist(df2.thetaz, n_bins, weights=weights_4, histtype='step', label=str(name[2]) + 'x' + str(name[3]), color='blue')\n",
    "\n",
    "    ax0.axvline(x=0, color='black', linestyle='--') # lines where zero is\n",
    "    ax1.axvline(x=0, color='black', linestyle='--')\n",
    "\n",
    "    ax0.axvline(x=-25, color='green', linestyle='--', label=r'$\\theta$') # theta\n",
    "    ax0.axvline(x=65, color='goldenrod', linestyle='--', label=r'$90-\\theta$') # 90-theta\n",
    "\n",
    "    ax0.set(xlabel=r'$\\theta_y (^\\circ)$', ylabel='Probability', xlim=(-120,120))\n",
    "    ax1.set(xlabel=r'$\\theta_z (^\\circ)$', ylabel='Probability', xlim=(-120,120))\n",
    "    plt.suptitle(str(name[0]) + 'x' + str(name[1]) + ' and '+str(name[2]) + 'x' + str(name[3]) + 'mm Particles')\n",
    "    \n",
    "    handles, labels = ax0.get_legend_handles_labels()\n",
    "    plt.legend(handles, labels, loc='best')\n",
    "\n",
    "    plt.savefig('Figures/totProbDistr/'+name+'.png', dpi=300)\n",
    "    return plt.show()"
   ]
  },
  {
   "cell_type": "code",
   "execution_count": null,
   "id": "connected-nerve",
   "metadata": {},
   "outputs": [],
   "source": [
    "#run totProbDistr for all names in filenames.txt#\n",
    "with open('filenames.txt') as file:\n",
    "    for name in file:\n",
    "        totProbDistr(name.rstrip('\\n'))"
   ]
  },
  {
   "cell_type": "markdown",
   "id": "suitable-portugal",
   "metadata": {},
   "source": [
    "We see a strong preference for rods to be angled down the slope, at an angle of inclination somewhere between 0 and -25 degrees. The disks have a less strong preference. It should be noted that the simulations have periodic boundary conditions. "
   ]
  },
  {
   "cell_type": "markdown",
   "id": "proper-trustee",
   "metadata": {},
   "source": [
    "![](totProb.png)"
   ]
  },
  {
   "cell_type": "markdown",
   "id": "stable-utilization",
   "metadata": {},
   "source": [
    "If we want to compare rod-like particles in flow with 2x2 disks on the same axis, it is easy to compare their probabilities. We take the code from totProbDistr and modify it slightly, and only run if the name in filenames.txt starts with '22'. "
   ]
  },
  {
   "cell_type": "code",
   "execution_count": 6,
   "id": "understanding-raising",
   "metadata": {},
   "outputs": [
    {
     "data": {
      "image/png": "[encoded data removed]",
      "text/plain": [
       "<Figure size 1080x576 with 2 Axes>"
      ]
     },
     "metadata": {
      "needs_background": "light"
     },
     "output_type": "display_data"
    }
   ],
   "source": [
    "import pandas as pd\n",
    "import matplotlib.pyplot as plt\n",
    "import numpy as np\n",
    "\n",
    "fig, (ax0, ax1) = plt.subplots(1,2,figsize=(15,8),sharey=True)\n",
    "ax0.set_box_aspect(1), ax1.set_box_aspect(1)\n",
    "\n",
    "with open('filenames.txt','r') as file:\n",
    "    for name in file:\n",
    "        name = name.rstrip('\\n')\n",
    "        if name.startswith('22'): # only names starting with '22'\n",
    "            df = pd.read_pickle('DataFrames/'+name+'_CleanDF') # reads clean dataframe\n",
    "\n",
    "            df1 = df[df.c.round(4) == (float(name[1])/2000) ] # divides into 2 particles\n",
    "            df2 = df[df.c.round(4) == (float(name[3])/2000) ]\n",
    "            \n",
    "            n_bins = 100 # arbitrary\n",
    "\n",
    "            weights_2=np.ones_like(df2.thetay)/len(df2.thetay) # to get probability instead of density\n",
    "            ax0.hist(df2.thetay, n_bins, weights=weights_2, histtype='step', label='$\\phi = $' + str(name[3]))\n",
    "            weights_4=np.ones_like(df2.thetaz)/len(df2.thetaz)\n",
    "            ax1.hist(df2.thetaz, n_bins, weights=weights_4, histtype='step')\n",
    "\n",
    "ax0.axvline(x=0, color='black', linestyle='--')\n",
    "ax1.axvline(x=0, color='black', linestyle='--')\n",
    "\n",
    "ax0.axvline(x=-25, color='green', linestyle='--', label=r'$\\theta$')\n",
    "ax0.axvline(x=65, color='goldenrod', linestyle='--', label=r'$90-\\theta$')\n",
    "\n",
    "ax0.set(xlabel=r'$\\theta_y (^\\circ)$', ylabel='Probability for 2x'+'$\\phi$', xlim=(-120,120))\n",
    "ax1.set(xlabel=r'$\\theta_z (^\\circ)$', ylabel='Probability for 2x'+'$\\phi$', xlim=(-120,120))\n",
    "plt.suptitle('Comparison of 2x2 and 2x'+'$\\phi$'+'mm Particles')\n",
    "\n",
    "handles, labels = ax0.get_legend_handles_labels()\n",
    "plt.legend(handles, labels, loc='best')\n",
    "\n",
    "plt.savefig('Figures/Comparison_2x2_2xPHI.png', dpi=300)"
   ]
  },
  {
   "cell_type": "markdown",
   "id": "bridal-hughes",
   "metadata": {},
   "source": [
    "## Angles Error Bars \n",
    "errorBars creates error bars of $\\theta_y$ and $\\theta_z$. On average, the shortest particle length is 0.002 m, therefore each bin is calculated to be 25x0.002 m long. "
   ]
  },
  {
   "cell_type": "code",
   "execution_count": 7,
   "id": "impressive-pride",
   "metadata": {},
   "outputs": [],
   "source": [
    "def errorBars(name):\n",
    "    '''Creates error bars of thetay and thetaz plotted against Xprime. '''\n",
    "    import pandas as pd\n",
    "    import numpy as np\n",
    "    import matplotlib.pyplot as plt\n",
    "    import seaborn as sns\n",
    "    \n",
    "    df = pd.read_pickle('DataFrames/'+name+'_CleanDF') # get clean dataframe\n",
    "    \n",
    "    fig, (ax0, ax1, ax2) = plt.subplots(1, 3, figsize=(15,5)) # create figure\n",
    "    ax0.set_box_aspect(1), ax1.set_box_aspect(1), ax2.set_box_aspect(1)\n",
    "\n",
    "    ax1.axhline(y=-25, color='green', linestyle='--', label = r'$\\theta$') # line at slope\n",
    "\n",
    "    bin_num=int(df.xprime.max()/0.05) # calculated by taking 25*0.002mm. \n",
    "\n",
    "    df = df[df.a != 0]\n",
    "    df1 = df[df.c.round(4) == (float(name[1])/2000) ]\n",
    "    df2 = df[df.c.round(4) == (float(name[3])/2000) ]\n",
    "\n",
    "    df1 = df1.sort_values(by=['xprime']) # stort dataframe values by xprime\n",
    "    df1['bin'] = pd.cut(df1.xprime,bin_num, include_lowest = True) # cut dataframe into bin_num\n",
    "    group = df1.groupby('bin') \n",
    "    dfs1 = [group.get_group(x) for x in group.groups] # stores all cut up dataframes into one dataframe called dfs1\n",
    "\n",
    "    df2 = df2.sort_values(by=['xprime'])\n",
    "    df2['bin'] = pd.cut(df2.xprime,bin_num, include_lowest = True)\n",
    "    group = df2.groupby('bin')\n",
    "    dfs2 = [group.get_group(x) for x in group.groups]\n",
    "\n",
    "    df_all = df.sort_values(by=['xprime'])\n",
    "    df_all['bin'] = pd.cut(df_all.xprime, bin_num, include_lowest = True)\n",
    "    group = df_all.groupby('bin')\n",
    "    dfs_all = [group.get_group(x) for x in group.groups]\n",
    "    \n",
    "    mean_y1, mean_z1, std_y1, std_z1, loc1 = [],[],[],[],[]\n",
    "    for i in range(bin_num):\n",
    "        sns.scatterplot(data=dfs_all[i], x='x', y='z',ax=ax0, s=2) # plot scatterplot  \n",
    "        mean_y1.append(dfs1[i].thetay.mean()) # thetay mean\n",
    "        std_y1.append(dfs1[i].thetay.std()/np.sqrt(len(dfs1[i].index))) # thetay std divided by sqrt(number in bin)\n",
    "        mean_z1.append(dfs1[i].thetaz.mean()) # thetaz mean\n",
    "        std_z1.append(dfs1[i].thetaz.std()/np.sqrt(len(dfs1[i].index)))\n",
    "        loc1.append(dfs1[i].xprime.mean()) # location of bins along xprime\n",
    "\n",
    "    mean_y2, mean_z2, std_y2, std_z2, loc2 = [],[],[],[],[]\n",
    "    for i in range(bin_num):\n",
    "        mean_y2.append(dfs2[i].thetay.mean())\n",
    "        std_y2.append(dfs2[i].thetay.std()/np.sqrt(len(dfs2[i].index)))\n",
    "        mean_z2.append(dfs2[i].thetaz.mean())\n",
    "        std_z2.append(dfs2[i].thetaz.std()/np.sqrt(len(dfs2[i].index)))\n",
    "        loc2.append(dfs2[i].xprime.mean())\n",
    "\n",
    "    ax1.errorbar(loc1, mean_y1, yerr=std_y1, fmt='-o', label=str(name[0]) + 'x' + str(name[1])) # plot\n",
    "    ax2.errorbar(loc1, mean_z1, yerr=std_z1, fmt='-o', label=str(name[0]) + 'x' + str(name[1]))\n",
    "    ax1.errorbar(loc2, mean_y2, yerr=std_y2, fmt='-o', label=str(name[2]) + 'x' + str(name[3]))   \n",
    "    ax2.errorbar(loc2, mean_z2, yerr=std_z2, fmt='-o', label=str(name[2]) + 'x' + str(name[3]))\n",
    "\n",
    "    ax1.set(xlim=(df1.xprime.min(),df1.xprime.max()), ylim=(-90,90), xlabel='X\\'', ylabel=r'$\\theta_y$')\n",
    "    ax2.set(xlim=(df1.xprime.min(),df1.xprime.max()), ylim=(-90,90), xlabel='X\\'', ylabel=r'$\\theta_z$')\n",
    "\n",
    "    handles, labels = ax1.get_legend_handles_labels()\n",
    "    plt.legend(handles, labels, loc='best')\n",
    "    plt.suptitle(str(name[0]) + 'x' + str(name[1]) + ' and '+str(name[2]) + 'x' + str(name[3]) + 'mm Particles')\n",
    "    ax0.margins(x=0, y=0)\n",
    "    ax0.title.set_text('Binning of Data')\n",
    "    ax1.title.set_text(r'$\\theta_y$ vs. ' + 'X\\'')\n",
    "    ax2.title.set_text(r'$\\theta_z$ vs. ' + 'X\\'')\n",
    "    \n",
    "    plt.savefig('Figures/errorBars/'+str(name)+'.png', dpi=300)\n",
    "    return plt.close()"
   ]
  },
  {
   "cell_type": "code",
   "execution_count": null,
   "id": "sound-uncertainty",
   "metadata": {},
   "outputs": [],
   "source": [
    "#run errorBars for all files in RawData#\n",
    "with open('filenames.txt') as file:\n",
    "    for name in file:\n",
    "        errorBars(name.rstrip('\\n'))"
   ]
  },
  {
   "cell_type": "markdown",
   "id": "neural-expense",
   "metadata": {},
   "source": [
    "![](errorbars.png)"
   ]
  },
  {
   "cell_type": "markdown",
   "id": "accepting-strip",
   "metadata": {},
   "source": [
    "The error bar graphs correspond to the probability graphs above and show that there is not a strong correlation between the angles and X'. "
   ]
  },
  {
   "cell_type": "markdown",
   "id": "sealed-argentina",
   "metadata": {},
   "source": [
    "For a visual understanding of what these angles mean, we refer the reader to 3 Angles & Binning. "
   ]
  }
 ],
 "metadata": {
  "kernelspec": {
   "display_name": "Python 3",
   "language": "python",
   "name": "python3"
  },
  "language_info": {
   "codemirror_mode": {
    "name": "ipython",
    "version": 3
   },
   "file_extension": ".py",
   "mimetype": "text/x-python",
   "name": "python",
   "nbconvert_exporter": "python",
   "pygments_lexer": "ipython3",
   "version": "3.8.8"
  }
 },
 "nbformat": 4,
 "nbformat_minor": 5
}
